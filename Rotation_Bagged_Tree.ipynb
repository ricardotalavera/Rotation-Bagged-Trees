{
 "cells": [
  {
   "attachments": {},
   "cell_type": "markdown",
   "id": "6e8d6711",
   "metadata": {},
   "source": [
    "# Introducción al Machine Learning - Ricardo Talavera Data Scientist\n",
    "## Taller: Implementación de ensamblaje \"Rotation Bagged Trees\"\n",
    "### Propósito de la actividad\n",
    "En esta actividad  ponemos en práctica la implementación de un modelo de ensamblaje basado en árboles. En particular, se implementará el ensamblaje \"Rotation Bagged Trees\".\n",
    "\n",
    "### Instrucciones generales\n",
    "\n",
    "Número de árboles: Se utiliza adecuadamente el parámetro “numArboles” de acuerdo a como fue especificado en el enunciado. \n",
    "\n",
    "Rotación de predictores: El código rota correctamente los predictores.\n",
    "\n",
    "Coherencia en los ángulos de rotación utilizados en train y en test para cada árbol: El código debe utilizar en test las mismas rotaciones que utilizó en train para cada árbol estimado. \n",
    "\n",
    "Coherencia en los predictores utilizados en train y en test para cada árbol: El código debe utilizar en test los mismos predictores que utilizó en train para cada árbol estimado. \n",
    "\n",
    "Medición del desempeño: El código permite calcular de manera correcta el MSE en la muestra de evaluación.\n",
    "\n",
    "\n",
    "### Diversificación como principio para ensamblar\n",
    "\n",
    "Los ensamblajes de modelos predictivos son útiles para combinar modelos que, por separado, no tendrían un buen desempeño. Por ejemplo, se suelen utilizar diferentes técnicas de ensamblaje en árboles de decisión para que el modelo resultante tenga un gran poder predictivo.\n",
    "\n",
    "De esta manera, los algoritmos de ensamblaje (como bagging o boosting) se benefician de las diversas características que resultan de los modelos de árboles individualmente. Por lo anterior, la diversificación es un principio fundamental para mejorar el desempeño predictivo en el ensamblaje de modelos, por lo cual encontrar formas de diversificar los algoritmos predictivos se vuelve una tarea fundamental.\n",
    "\n",
    "De esta manera, en este notebook se implementará un código que permita aplicar diversificación en el ensamblaje de árboles de decisión de una manera inédita: Rotation Bagged Trees.\n",
    "\n",
    "### Librerías a importar\n",
    "\n",
    "A continuación se muestran los comandos a ejecutar para poder implementar los procedimientos de este notebook:"
   ]
  },
  {
   "cell_type": "code",
   "execution_count": 1,
   "id": "b388536a",
   "metadata": {},
   "outputs": [],
   "source": [
    "import numpy as np\n",
    "from sklearn import datasets\n",
    "from sklearn.model_selection import train_test_split\n",
    "from sklearn.tree import DecisionTreeRegressor\n",
    "import matplotlib.pyplot as plt"
   ]
  },
  {
   "cell_type": "markdown",
   "id": "665e3548",
   "metadata": {},
   "source": [
    "### Cargando los datos\n",
    "\n",
    "En primer lugar, cargaremos los datos a usar en este Notebook que corresponden a la base de datos \"Diabetes\" del paquete \"sklearn\". Para ello, ejecutaremos el siguiente código:"
   ]
  },
  {
   "cell_type": "code",
   "execution_count": 2,
   "id": "9b04cb78",
   "metadata": {},
   "outputs": [],
   "source": [
    "XTotal, yTotal = datasets.load_diabetes(return_X_y=True)"
   ]
  },
  {
   "cell_type": "code",
   "execution_count": 3,
   "id": "9b72b1c5",
   "metadata": {},
   "outputs": [
    {
     "data": {
      "text/plain": [
       "(442, 10)"
      ]
     },
     "execution_count": 3,
     "metadata": {},
     "output_type": "execute_result"
    }
   ],
   "source": [
    "XTotal.shape"
   ]
  },
  {
   "cell_type": "code",
   "execution_count": 4,
   "id": "b36c766c",
   "metadata": {},
   "outputs": [
    {
     "data": {
      "text/plain": [
       "(442,)"
      ]
     },
     "execution_count": 4,
     "metadata": {},
     "output_type": "execute_result"
    }
   ],
   "source": [
    "yTotal.shape"
   ]
  },
  {
   "cell_type": "markdown",
   "id": "845df029",
   "metadata": {},
   "source": [
    "Luego, partiremos la base de datos en una sección de train y otra de test de la siguiente manera: utilizaremos el 67% de los datos para entrenamiento y el 33% restante para evaluación."
   ]
  },
  {
   "cell_type": "code",
   "execution_count": 5,
   "id": "3c84b098",
   "metadata": {},
   "outputs": [],
   "source": [
    "XTrain, XTest, yTrain, yTest = train_test_split(XTotal, yTotal, test_size=0.33, random_state=0)"
   ]
  },
  {
   "attachments": {},
   "cell_type": "markdown",
   "id": "f5807b31",
   "metadata": {},
   "source": [
    "Ahora, procederemos a presentar conceptos importantes para el desarrollo.\n",
    "\n",
    "### Estimando un árbol de regresión\n",
    "\n",
    "A continuación se muestra un procedimiento para la estimación de un árbol de regresión para la base de datos descargada:"
   ]
  },
  {
   "cell_type": "code",
   "execution_count": 6,
   "id": "78ac54f4",
   "metadata": {},
   "outputs": [],
   "source": [
    "arbol = DecisionTreeRegressor()\n",
    "arbol  = arbol.fit(XTrain, yTrain)"
   ]
  },
  {
   "cell_type": "markdown",
   "id": "6c7a34df",
   "metadata": {},
   "source": [
    "Luego, es posible realizar predicciones sobre la muestra de evaluación y calcular su desempeño:"
   ]
  },
  {
   "cell_type": "code",
   "execution_count": 7,
   "id": "4b7c6d2a",
   "metadata": {},
   "outputs": [
    {
     "name": "stdout",
     "output_type": "stream",
     "text": [
      "El MSE del modelo en la muestra de evaluación es igual a:\n",
      "5216.8493150684935\n"
     ]
    }
   ],
   "source": [
    "prediccion=arbol.predict(XTest)\n",
    "MSEArbol=np.average(np.square(prediccion-yTest))\n",
    "print(\"El MSE del modelo en la muestra de evaluación es igual a:\")\n",
    "print(MSEArbol)"
   ]
  },
  {
   "cell_type": "markdown",
   "id": "7abfaf42",
   "metadata": {},
   "source": [
    "### Rotaciones en $R^2$\n",
    "\n",
    "Las rotaciones son un tipo particular de transformación lineal que, al aplicarse sobre un espacio, cambia la orientación de un vector preservando su longitud. En particular, si se quiere rotar un vector en un ángulo $\\theta$, la matriz $A(\\theta)$ que representa esta transformación lineal es definida de la siguiente forma:\n",
    "\n",
    "$$A=\\begin{pmatrix}\n",
    "Cos(\\theta) & -Sen(\\theta) \\\\\n",
    "Sin(\\theta) & Cos(\\theta) \n",
    "\\end{pmatrix}$$\n",
    "\n",
    "De esta manera, si se quisiera rotar 90 grados el vector $v=\\begin{pmatrix}\n",
    "1 \\\\\n",
    "1  \n",
    "\\end{pmatrix}$, entonces esto correspondería a multiplicarlo por la matriz $A(\\frac{\\pi}{2})$ de la siguiente forma:\n",
    "\n",
    "$$A(\\frac{\\pi}{2})v=\\begin{pmatrix}\n",
    "Cos(\\frac{\\pi}{2}) & -Sen(\\frac{\\pi}{2}) \\\\\n",
    "Sin(\\frac{\\pi}{2}) & Cos(\\frac{\\pi}{2}) \n",
    "\\end{pmatrix} \\begin{pmatrix}\n",
    "1 \\\\\n",
    "1  \n",
    "\\end{pmatrix}= \\begin{pmatrix}\n",
    "0 & -1 \\\\\n",
    "1 & 0 \n",
    "\\end{pmatrix}\\begin{pmatrix}\n",
    "1 \\\\\n",
    "1  \n",
    "\\end{pmatrix}=\\begin{pmatrix}\n",
    "-1 \\\\\n",
    "1  \n",
    "\\end{pmatrix}$$\n",
    "\n",
    "A continuación se muestra el código que realiza esta operación y la representación gráfica:"
   ]
  },
  {
   "cell_type": "code",
   "execution_count": 8,
   "id": "9e7ab8f6",
   "metadata": {},
   "outputs": [
    {
     "data": {
      "image/png": "[encoded data removed]",
      "text/plain": [
       "<Figure size 640x480 with 1 Axes>"
      ]
     },
     "metadata": {},
     "output_type": "display_data"
    }
   ],
   "source": [
    "vectorOriginal=[1,1] #En rojo\n",
    "\n",
    "theta = np.radians(90)\n",
    "A = np.array(((np.cos(theta), -np.sin(theta)), (np.sin(theta), np.cos(theta))))\n",
    "\n",
    "vectorRotado=np.matmul(A, vectorOriginal) #En azul\n",
    "\n",
    "V = np.array([vectorOriginal, vectorRotado])\n",
    "origin = np.array([[0, 0],[0, 0]])\n",
    "\n",
    "plt.quiver(*origin, V[:,0], V[:,1], color=['r','b'],scale=5)\n",
    "plt.show()"
   ]
  },
  {
   "cell_type": "markdown",
   "id": "92e61729",
   "metadata": {},
   "source": [
    "### Generación de números aleatorios\n",
    "\n",
    "Ahora bien, para el código que deberán desarrollar al final de este archivo, será útil la implementación de un generador de números aleatorios (RNG por sus siglas en inglés).\n",
    "\n",
    "En particular se necesitarán dos tipos de RNG: uno para una variable aleatoria uniforme discreta y otra para una variable aleatoria uniforme continua.\n",
    "\n",
    "En primer lugar, el código para generar $nRNG$ cantidad de variables aleatorias uniformes continuas entre $a$ y $b$ con $a<b$ es:"
   ]
  },
  {
   "cell_type": "code",
   "execution_count": 9,
   "id": "a4b0ec8b",
   "metadata": {},
   "outputs": [
    {
     "data": {
      "text/plain": [
       "array([0.10024053, 0.71087651, 0.20057519, 0.18868282, 0.36600388,\n",
       "       0.90291302, 0.18997042, 0.26736745, 0.51757254, 0.78215109])"
      ]
     },
     "execution_count": 9,
     "metadata": {},
     "output_type": "execute_result"
    }
   ],
   "source": [
    "a=0\n",
    "b=1\n",
    "nRNG=10\n",
    "np.random.uniform(a,b,nRNG)"
   ]
  },
  {
   "attachments": {},
   "cell_type": "markdown",
   "id": "4890d912",
   "metadata": {},
   "source": [
    "Ahora bien, si se quiere generar $nRNG$ cantidad de variables aleatorias discretas entre $a$ y $b$ con $a<b$, entonces puede usarse el siguiente código:"
   ]
  },
  {
   "cell_type": "code",
   "execution_count": 10,
   "id": "18e646aa",
   "metadata": {},
   "outputs": [
    {
     "data": {
      "text/plain": [
       "array([5, 4, 8])"
      ]
     },
     "execution_count": 10,
     "metadata": {},
     "output_type": "execute_result"
    }
   ],
   "source": [
    "a=0\n",
    "b=10\n",
    "nRNG=3\n",
    "np.random.choice(range(0,b+1), size=nRNG, replace=False)"
   ]
  },
  {
   "attachments": {},
   "cell_type": "markdown",
   "id": "6684d159",
   "metadata": {},
   "source": [
    "### Implementación de código para Rotation Bagged Trees\n",
    "\n",
    "A continuación escribimos una función que implemente Rotation Bagged Trees. Para ello, hacemos que la función reciba como parámetros la matriz de predictores de entrenamiento, la variable de respuesta de entrenamiento, la matriz de predictores de evaluación, la variable de respuesta de evaluación y un parámetro llamado \"numArboles\" que corresponde al número de árboles que se deben utilizar en el ensamblaje.\n",
    "El código entrena la cantidad de árboles de decisión especificada, utilizando en cada uno de ellos únicamente dos predictores escogidos aleatoriamente. Una vez han sido escogidos los dos predictores a utilizar para cada árbol, se escoge, también para cada árbol, un ángulo de manera aleatoria entre 0 y $2\\pi$ para rotar los predictores y estimar el modelo con los predictores rotados.\n",
    "Posteriormente, se realiza la predicción en test y se promedian los resultados de todos los árboles para obtener la salida  del ensamblaje.\n",
    "Finalmente, la función arroja el MSE de la muestra de test."
   ]
  },
  {
   "cell_type": "code",
   "execution_count": 11,
   "id": "2ccf3dbc",
   "metadata": {},
   "outputs": [
    {
     "data": {
      "text/plain": [
       "(442, 10)"
      ]
     },
     "execution_count": 11,
     "metadata": {},
     "output_type": "execute_result"
    }
   ],
   "source": [
    "XTotal.shape"
   ]
  },
  {
   "cell_type": "code",
   "execution_count": 12,
   "id": "9d28ea58",
   "metadata": {},
   "outputs": [],
   "source": [
    "def rotation_bagged_trees(XTrain,yTrain,XTest,yTest,numArboles):\n",
    "\n",
    "    #Inicializo arreglo de predicciones \n",
    "    ypred = np.zeros_like(yTest)\n",
    "    \n",
    "    #Entrenamiento de los arboles de decisión\n",
    "    for i in range(numArboles):\n",
    "        #Seleccion de dos predictores aleatorios\n",
    "        indices = np.random.choice(XTrain.shape[1], size=2, replace=False)\n",
    "        X_train_subset = XTrain[:, indices]\n",
    "        X_test_subset = XTest[:, indices]\n",
    "\n",
    "        # Generación de un ángulo aleatorio entre 0 y 2*pi\n",
    "        angulo = np.random.uniform(low=0, high=2*np.pi)\n",
    "\n",
    "        # Rotación de los predictores\n",
    "        rotacion = np.array([[np.cos(angulo), -np.sin(angulo)],\n",
    "                             [np.sin(angulo), np.cos(angulo)]])\n",
    "        X_train_rotado = X_train_subset.dot(rotacion)\n",
    "        X_test_rotado = X_test_subset.dot(rotacion)\n",
    "\n",
    "        # Entrenamiento del árbol de decisión\n",
    "        clf = DecisionTreeRegressor()\n",
    "        clf.fit(X_train_rotado, yTrain)\n",
    "\n",
    "        # Predicción con el árbol de decisión\n",
    "        y_pred_arbol = clf.predict(X_test_rotado)\n",
    "\n",
    "        # Acumulación de las predicciones de todos los árboles\n",
    "        ypred += y_pred_arbol\n",
    "\n",
    "    # Cálculo del promedio de las predicciones\n",
    "    ypred /= numArboles\n",
    "\n",
    "    # Cálculo del MSE\n",
    "    mse = np.mean((yTest - ypred)**2)\n",
    "\n",
    "    return mse\n",
    "\n",
    "    "
   ]
  },
  {
   "cell_type": "code",
   "execution_count": 31,
   "id": "e272cc1d",
   "metadata": {},
   "outputs": [],
   "source": [
    "mse = rotation_bagged_trees(XTrain,yTrain,XTest,yTest,100)"
   ]
  },
  {
   "cell_type": "code",
   "execution_count": 32,
   "id": "8262b9f2",
   "metadata": {},
   "outputs": [],
   "source": [
    "mse_lista=[]\n",
    "mse_lista.append((\"Rotation Bagged Trees\",mse))"
   ]
  },
  {
   "cell_type": "code",
   "execution_count": 33,
   "id": "dd4ecc90",
   "metadata": {},
   "outputs": [],
   "source": [
    "from sklearn.tree import DecisionTreeRegressor\n",
    "from sklearn.metrics import mean_squared_error\n",
    "\n",
    "dtc = DecisionTreeRegressor()\n",
    "\n",
    "dtc.fit(XTrain,yTrain)\n",
    "\n",
    "y_pred = dtc.predict(XTest)\n",
    "mse_lista.append((\"Decision Tree\",mean_squared_error(yTest,y_pred)))"
   ]
  },
  {
   "cell_type": "code",
   "execution_count": 34,
   "id": "535f2b62",
   "metadata": {},
   "outputs": [],
   "source": [
    "from sklearn.ensemble import RandomForestRegressor\n",
    "\n",
    "rf = RandomForestRegressor()\n",
    "\n",
    "rf.fit(XTrain,yTrain)\n",
    "\n",
    "y_pred_rf = rf.predict(XTest)\n",
    "mse_lista.append((\"Random Forest\",mean_squared_error(yTest,y_pred_rf)))"
   ]
  },
  {
   "cell_type": "code",
   "execution_count": 35,
   "id": "7e635b03",
   "metadata": {},
   "outputs": [],
   "source": [
    "from sklearn.ensemble import GradientBoostingRegressor\n",
    "\n",
    "boosting = GradientBoostingRegressor()\n",
    "\n",
    "boosting.fit(XTrain,yTrain)\n",
    "\n",
    "y_pred_boosting = boosting.predict(XTest)\n",
    "mse_lista.append((\"Boosting\",mean_squared_error(yTest,y_pred_boosting)))"
   ]
  },
  {
   "cell_type": "code",
   "execution_count": 37,
   "id": "b356dd47",
   "metadata": {},
   "outputs": [],
   "source": [
    "from sklearn.ensemble import BaggingRegressor\n",
    "\n",
    "bagging = BaggingRegressor()\n",
    "\n",
    "bagging.fit(XTrain,yTrain)\n",
    "\n",
    "y_pred_bagging = bagging.predict(XTest)\n",
    "mse_lista.append((\"Bagging\",mean_squared_error(yTest,y_pred_bagging)))"
   ]
  },
  {
   "cell_type": "code",
   "execution_count": 38,
   "id": "16ea565a",
   "metadata": {},
   "outputs": [
    {
     "data": {
      "text/plain": [
       "[('Rotation Bagged Trees', 3545.9856159731653),\n",
       " ('Decision Tree', 5033.821917808219),\n",
       " ('Random Forest', 3637.059450684932),\n",
       " ('Boosting', 3579.447853372689),\n",
       " ('Bagging', 3986.764863013699)]"
      ]
     },
     "execution_count": 38,
     "metadata": {},
     "output_type": "execute_result"
    }
   ],
   "source": [
    "mse_lista"
   ]
  },
  {
   "cell_type": "code",
   "execution_count": 39,
   "id": "40d8c087",
   "metadata": {},
   "outputs": [
    {
     "ename": "TypeError",
     "evalue": "scatter() missing 1 required positional argument: 'y'",
     "output_type": "error",
     "traceback": [
      "\u001b[1;31m---------------------------------------------------------------------------\u001b[0m",
      "\u001b[1;31mTypeError\u001b[0m                                 Traceback (most recent call last)",
      "\u001b[1;32mc:\\Users\\Ricardo\\Desktop\\Cursos Varios\\python\\Clase3\\Rotation_Bagged_Tree.ipynb Cell 29\u001b[0m in \u001b[0;36m1\n\u001b[1;32m----> <a href='vscode-notebook-cell:/c%3A/Users/Ricardo/Desktop/Cursos%20Varios/python/Clase3/Rotation_Bagged_Tree.ipynb#X66sZmlsZQ%3D%3D?line=0'>1</a>\u001b[0m plt\u001b[39m.\u001b[39;49mscatter(mse_lista)\n",
      "\u001b[1;31mTypeError\u001b[0m: scatter() missing 1 required positional argument: 'y'"
     ]
    }
   ],
   "source": [
    "plt.scatter(mse_lista)"
   ]
  }
 ],
 "metadata": {
  "kernelspec": {
   "display_name": "Python 3",
   "language": "python",
   "name": "python3"
  },
  "language_info": {
   "codemirror_mode": {
    "name": "ipython",
    "version": 3
   },
   "file_extension": ".py",
   "mimetype": "text/x-python",
   "name": "python",
   "nbconvert_exporter": "python",
   "pygments_lexer": "ipython3",
   "version": "3.10.7"
  },
  "vscode": {
   "interpreter": {
    "hash": "f70c1e2fb12efbb75f4672ba1915fe938ef6bbf49e61743293f7740cd33511b7"
   }
  }
 },
 "nbformat": 4,
 "nbformat_minor": 5
}
